{
  "nbformat": 4,
  "nbformat_minor": 0,
  "metadata": {
    "colab": {
      "provenance": [],
      "mount_file_id": "1Kx9cD-AJN1TlnwKXmvv99WDzMHba7ww4",
      "authorship_tag": "ABX9TyOTAFX+RI61yIrrU7FmcY0A",
      "include_colab_link": true
    },
    "kernelspec": {
      "name": "python3",
      "display_name": "Python 3"
    },
    "language_info": {
      "name": "python"
    }
  },
  "cells": [
    {
      "cell_type": "markdown",
      "metadata": {
        "id": "view-in-github",
        "colab_type": "text"
      },
      "source": [
        "<a href=\"https://colab.research.google.com/github/MariaKwa/FAQ-Bot/blob/main/%D0%91%D0%BE%D1%82_%D0%9B%D0%B8%D0%9F%D0%9A%D0%98%D0%AF.ipynb\" target=\"_parent\"><img src=\"https://colab.research.google.com/assets/colab-badge.svg\" alt=\"Open In Colab\"/></a>"
      ]
    },
    {
      "cell_type": "markdown",
      "source": [
        "# Бот отправляет ссылку на тематический раздел FAQ\n",
        "###или картинку из коллекции по запросу"
      ],
      "metadata": {
        "id": "CErmdIskoKbw"
      }
    },
    {
      "cell_type": "code",
      "source": [
        "pip install pytelegrambotapi"
      ],
      "metadata": {
        "colab": {
          "base_uri": "https://localhost:8080/"
        },
        "id": "cGaCta-DreRR",
        "outputId": "13a6ccd7-c802-4a5e-f987-4f58880be5ac"
      },
      "execution_count": null,
      "outputs": [
        {
          "output_type": "stream",
          "name": "stdout",
          "text": [
            "Looking in indexes: https://pypi.org/simple, https://us-python.pkg.dev/colab-wheels/public/simple/\n",
            "Collecting pytelegrambotapi\n",
            "  Downloading pyTelegramBotAPI-4.10.0.tar.gz (222 kB)\n",
            "\u001b[2K     \u001b[90m━━━━━━━━━━━━━━━━━━━━━━━━━━━━━━━━━━━━━━━\u001b[0m \u001b[32m222.9/222.9 KB\u001b[0m \u001b[31m3.2 MB/s\u001b[0m eta \u001b[36m0:00:00\u001b[0m\n",
            "\u001b[?25h  Preparing metadata (setup.py) ... \u001b[?25l\u001b[?25hdone\n",
            "Requirement already satisfied: requests in /usr/local/lib/python3.8/dist-packages (from pytelegrambotapi) (2.25.1)\n",
            "Requirement already satisfied: certifi>=2017.4.17 in /usr/local/lib/python3.8/dist-packages (from requests->pytelegrambotapi) (2022.12.7)\n",
            "Requirement already satisfied: chardet<5,>=3.0.2 in /usr/local/lib/python3.8/dist-packages (from requests->pytelegrambotapi) (4.0.0)\n",
            "Requirement already satisfied: idna<3,>=2.5 in /usr/local/lib/python3.8/dist-packages (from requests->pytelegrambotapi) (2.10)\n",
            "Requirement already satisfied: urllib3<1.27,>=1.21.1 in /usr/local/lib/python3.8/dist-packages (from requests->pytelegrambotapi) (1.24.3)\n",
            "Building wheels for collected packages: pytelegrambotapi\n",
            "  Building wheel for pytelegrambotapi (setup.py) ... \u001b[?25l\u001b[?25hdone\n",
            "  Created wheel for pytelegrambotapi: filename=pyTelegramBotAPI-4.10.0-py3-none-any.whl size=205420 sha256=186be8d8e9160e8b0a97693cb91a05069f1893a688fbd1bcda2adcfbdeb2265d\n",
            "  Stored in directory: /root/.cache/pip/wheels/ee/e3/f1/4c142d3be2e5f09c1ba8bf5801ae61d7b2cfd9afe497872806\n",
            "Successfully built pytelegrambotapi\n",
            "Installing collected packages: pytelegrambotapi\n",
            "Successfully installed pytelegrambotapi-4.10.0\n"
          ]
        }
      ]
    },
    {
      "cell_type": "code",
      "source": [
        "import telebot"
      ],
      "metadata": {
        "id": "9MjmBYsCrwkh"
      },
      "execution_count": null,
      "outputs": []
    },
    {
      "cell_type": "code",
      "source": [
        "from telebot import types"
      ],
      "metadata": {
        "id": "1QI7Iqbu0DpV"
      },
      "execution_count": null,
      "outputs": []
    },
    {
      "cell_type": "code",
      "source": [
        "your_bot = \"6229032996:AAG6gLWqVo-E2IHfn4uOTh8csD0JZmiybP8\"\n",
        "print('Готово!')"
      ],
      "metadata": {
        "colab": {
          "base_uri": "https://localhost:8080/"
        },
        "id": "XNEueSF1tiqs",
        "outputId": "59d430d5-111b-4c92-b47e-fe961c4ce4c2"
      },
      "execution_count": null,
      "outputs": [
        {
          "output_type": "stream",
          "name": "stdout",
          "text": [
            "Готово!\n"
          ]
        }
      ]
    },
    {
      "cell_type": "markdown",
      "source": [
        "Библиотеки ответов:"
      ],
      "metadata": {
        "id": "jvymAFp67UxW"
      }
    },
    {
      "cell_type": "code",
      "source": [
        "import random\n",
        "\n",
        "lib_Links = [\n",
        "    'По этой ссылке можно найти ответы на нужную тебе тему: ',\n",
        "    'Здесь есть ответы на самые частые вопросы по этой теме: ',\n",
        "    'Здесь собраны ответы на самые частые вопросы. Проверь, может быть, ты найдёшь нужную тебе информацию: ',\n",
        "    'Вся информация собрана здесь: ',\n",
        "    'Кое-что можно прочитать по этой ссылке. Может быть, ответ на твой вопрос тоже тут: '\n",
        "]\n",
        "\n",
        "lib_NotGettingIt = [\n",
        "    'Ой-ой, ничегошеньки не понимаю 🙈\\nНажми на одну из кнопок, тогда я смогу тебе ответить',\n",
        "    'Я бот простой, а слова сложные 🤔\\nПожалуйста, выбери одну из кнопок внизу, а так я ничего не понимаю!',\n",
        "    'Я старался, но ничего не понял 🥺\\nПопробуй ещё раз: нажми одну из кнопок внизу',\n",
        "    'Я ещё только учусь понимать людей. Воспользуйся, пожалуйста, кнопками, иначе я ничего не пойму((',\n",
        "    'Таких слов я ещё не выучил. Лучше нажми на кнопку с нужной темой, так мне будет гораздо проще помочь тебе)'\n",
        "]\n"
      ],
      "metadata": {
        "id": "KzEIiLF1woDa"
      },
      "execution_count": null,
      "outputs": []
    },
    {
      "cell_type": "code",
      "source": [
        "import os\n",
        "\n",
        "memes = os.listdir('/content/drive/MyDrive/Colab Notebooks/Лингвосферные картинки')"
      ],
      "metadata": {
        "id": "5NC-n6-Envlj"
      },
      "execution_count": null,
      "outputs": []
    },
    {
      "cell_type": "markdown",
      "source": [
        "**Сам бот:**"
      ],
      "metadata": {
        "id": "fqk0oQHlr7a4"
      }
    },
    {
      "cell_type": "code",
      "execution_count": null,
      "metadata": {
        "id": "50TMqX1OoDk-"
      },
      "outputs": [],
      "source": [
        "bot = telebot.TeleBot(your_bot)\n",
        "@bot.message_handler(commands=[\"start\"])\n",
        "def start(message): \n",
        "  markup = types.ReplyKeyboardMarkup(resize_keyboard=True)\n",
        "  button1 = types.KeyboardButton(\"Учеба 🤓\")\n",
        "  button2 = types.KeyboardButton(\"Общежитие 🏠\")\n",
        "  button3 = types.KeyboardButton(\"Внеучебное 💃\")\n",
        "  button4 = types.KeyboardButton(\"Лингвомемчик 🙃\")\n",
        "  markup.add(button1, button2, button3, button4)\n",
        "  bot.send_message(message.chat.id, 'Привет, я Анонимный Куратор! 😎 \\nЯ помогу тебе найти ответы на вопросы о поселении в общежитие, учебе и внеучебной деятельности.')\n",
        "  bot.send_message(message.chat.id, 'Что тебя интересует? Выбери тему, и я подскажу тебе, где найти ответ. Если хочешь поднять себе настроение, нажми на кнопку \"Лингвомемчик\" 😁', reply_markup = markup)\n",
        "\n",
        "@bot.message_handler(content_types=[\"text\"])\n",
        "def handle_text(message):\n",
        "  if message.text.strip() == 'Учеба 🤓':\n",
        "    reply1 = random.choice(lib_Links) + 'https://vk.com/@le_secundus-kratkii-faq?anchor=ucheba'\n",
        "    bot.send_message(message.chat.id, reply1)\n",
        "  elif message.text.strip() == 'Общежитие 🏠':\n",
        "    reply2 = random.choice(lib_Links) + 'https://vk.com/@le_secundus-kratkii-faq?anchor=obschezhitie'\n",
        "    bot.send_message(message.chat.id, reply2)\n",
        "  elif message.text.strip() == 'Внеучебное 💃':\n",
        "    reply3 = random.choice(lib_Links) + 'https://vk.com/@le_secundus-kratkii-faq?anchor=vneuchebnaya-deyatelьnostь'\n",
        "    bot.send_message(message.chat.id, reply3)\n",
        "  elif message.text.strip() == 'Лингвомемчик 🙃':\n",
        "    reply4 = 'Отличный выбор! 😏 \\nДержи:'\n",
        "    bot.send_message(message.chat.id, reply4)\n",
        "    meme = open(random.choice(memes), 'rb')\n",
        "    bot.send_photo(message.chat.id, meme)\n",
        "  else:\n",
        "    try_again = random.choice(lib_NotGettingIt)\n",
        "    bot.send_message(message.chat.id, try_again)\n",
        "  "
      ]
    },
    {
      "cell_type": "code",
      "source": [
        "bot.polling(none_stop=True, interval=0)"
      ],
      "metadata": {
        "id": "jtqCf1Rpvxcz"
      },
      "execution_count": null,
      "outputs": []
    },
    {
      "cell_type": "markdown",
      "source": [
        "Как сделать красивые ссылки?"
      ],
      "metadata": {
        "id": "pb_6FBontmhF"
      }
    },
    {
      "cell_type": "code",
      "source": [
        "reply1 = random.choice(lib_Links) + '(https://vk.com/@le_secundus-kratkii-faq?anchor=ucheba)'\n",
        "    bot.send_message(message.chat.id, reply1, parse_mode = '\\MarkdownV2')"
      ],
      "metadata": {
        "id": "TI_Zxql4Y8ON"
      },
      "execution_count": null,
      "outputs": []
    }
  ]
}